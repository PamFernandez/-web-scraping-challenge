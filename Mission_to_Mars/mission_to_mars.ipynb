{
 "cells": [
  {
   "cell_type": "code",
   "execution_count": 1,
   "id": "505ca43e-c48d-4863-8433-56aaab7cc354",
   "metadata": {},
   "outputs": [],
   "source": [
    "# Dependencies\n",
    "from bs4 import BeautifulSoup\n",
    "import requests\n",
    "import pymongo\n",
    "from splinter import Browser\n",
    "from webdriver_manager.chrome import ChromeDriverManager"
   ]
  },
  {
   "cell_type": "code",
   "execution_count": 9,
   "id": "d2d7cc47-f5e7-4d94-baa3-edc8f0680e92",
   "metadata": {},
   "outputs": [
    {
     "name": "stderr",
     "output_type": "stream",
     "text": [
      "\n",
      "\n",
      "====== WebDriver manager ======\n",
      "Current google-chrome version is 99.0.4844\n",
      "Get LATEST chromedriver version for 99.0.4844 google-chrome\n",
      "Driver [/Users/Pam/.wdm/drivers/chromedriver/mac64/99.0.4844.51/chromedriver] found in cache\n"
     ]
    }
   ],
   "source": [
    "# Setup splinter\n",
    "executable_path = {'executable_path': ChromeDriverManager().install()}\n",
    "browser = Browser('chrome', **executable_path, headless=False)"
   ]
  },
  {
   "cell_type": "code",
   "execution_count": 3,
   "id": "d36267cf-c542-48d6-9511-d433b8972e0b",
   "metadata": {},
   "outputs": [],
   "source": [
    "# URL of page to be scraped\n",
    "url = 'https://redplanetscience.com/'\n",
    "browser.visit(url)"
   ]
  },
  {
   "cell_type": "code",
   "execution_count": 4,
   "id": "b7eef7ff-69b5-4bc2-aa48-456995668deb",
   "metadata": {},
   "outputs": [],
   "source": [
    "# HTML object\n",
    "html = browser.html\n",
    "\n",
    "# Parse HTML with Beautiful Soup\n",
    "soup = BeautifulSoup(html, 'html.parser')"
   ]
  },
  {
   "cell_type": "markdown",
   "id": "3e83d60c-ec62-4c12-83df-3febdba6b218",
   "metadata": {},
   "source": [
    "### NASA Mars News"
   ]
  },
  {
   "cell_type": "code",
   "execution_count": 5,
   "id": "e345099c-f780-483d-aac7-e40248deee10",
   "metadata": {},
   "outputs": [],
   "source": [
    "# Scrape the Mars News Site and collect the latest News Title and Paragraph Text. Assign the text to variables that you can reference later.\n",
    "# Retrieve all elements that contain title and teaser\n",
    "results = soup.find_all('div', class_='list_text')\n"
   ]
  },
  {
   "cell_type": "code",
   "execution_count": 6,
   "id": "88ec988b-50b3-4601-8b32-2d63984b48e5",
   "metadata": {},
   "outputs": [
    {
     "name": "stdout",
     "output_type": "stream",
     "text": [
      "----------\n",
      "TITLE: Common Questions about InSight's 'Mole'\n",
      "\n",
      "TEASER: The following Q&As with members of the team answer some of the most common questions about the burrowing device, part of a science instrument called the Heat Flow and Physical Properties Package (HP3).\n",
      "----------\n",
      "TITLE: NASA's Mars Rover Drivers Need Your Help\n",
      "\n",
      "TEASER: Using an online tool to label Martian terrain types, you can train an artificial intelligence algorithm that could improve the way engineers guide the Curiosity rover.\n",
      "----------\n",
      "TITLE: HiRISE Views NASA's InSight and Curiosity on Mars\n",
      "\n",
      "TEASER: New images taken from space offer the clearest orbital glimpse yet of InSight as well as a view of Curiosity rolling along.\n",
      "----------\n",
      "TITLE: Follow NASA's Perseverance Rover in Real Time on Its Way to Mars\n",
      "\n",
      "TEASER: A crisply rendered web application can show you where the agency's Mars 2020 mission is right now as it makes its way to the Red Planet for a Feb. 18, 2021, landing.\n",
      "----------\n",
      "TITLE: NASA's InSight 'Hears' Peculiar Sounds on Mars\n",
      "\n",
      "TEASER: Listen to the marsquakes and other, less-expected sounds that the Mars lander has been detecting.\n",
      "----------\n",
      "TITLE: What's Mars Solar Conjunction, and Why Does It Matter?\n",
      "\n",
      "TEASER: NASA spacecraft at Mars are going to be on their own for a few weeks when the Sun comes between Mars and Earth, interrupting communications.\n",
      "----------\n",
      "TITLE: New Selfie Shows Curiosity, the Mars Chemist\n",
      "\n",
      "TEASER: The NASA rover performed a special chemistry experiment at the location captured in its newest self-portrait.\n",
      "----------\n",
      "TITLE: NASA Moves Forward With Campaign to Return Mars Samples to Earth\n",
      "\n",
      "TEASER: During this next phase, the program will mature critical technologies and make critical design decisions as well as assess industry partnerships.\n",
      "----------\n",
      "TITLE: NASA's Curiosity Mars Rover Snaps Its Highest-Resolution Panorama Yet\n",
      "\n",
      "TEASER: To go along with the stunning 1.8-billion-pixel image, a new video offers a sweeping view of the Red Planet.\n",
      "----------\n",
      "TITLE: NASA's Curiosity Rover Finds an Ancient Oasis on Mars\n",
      "\n",
      "TEASER: New evidence suggests salty, shallow ponds once dotted a Martian crater — a sign of the planet's drying climate.\n",
      "----------\n",
      "TITLE: NASA's Perseverance Rover 100 Days Out\n",
      "\n",
      "TEASER: Mark your calendars: The agency's latest rover has only about 8,640,000 seconds to go before it touches down on the Red Planet, becoming history's next Mars car.\n",
      "----------\n",
      "TITLE: NASA Perseverance Mars Rover Scientists Train in the Nevada Desert\n",
      "\n",
      "TEASER: Team members searched for signs of ancient microscopic life there, just as NASA's latest rover will on the Red Planet next year.\n",
      "----------\n",
      "TITLE: NASA's Push to Save the Mars InSight Lander's Heat Probe\n",
      "\n",
      "TEASER: The scoop on the end of the spacecraft's robotic arm will be used to 'pin' the mole against the wall of its hole.\n",
      "----------\n",
      "TITLE: A Martian Roundtrip: NASA's Perseverance Rover Sample Tubes\n",
      "\n",
      "TEASER: Marvels of engineering, the rover's sample tubes must be tough enough to safely bring Red Planet samples on the long journey back to Earth in immaculate condition. \n",
      "----------\n",
      "TITLE: NASA's MAVEN Maps Winds in the Martian Upper Atmosphere that Mirror the Terrain Below and Gives Clues to Martian Climate\n",
      "\n",
      "TEASER: Researchers have created the first map of wind circulation in the upper atmosphere of a planet besides Earth, using data from NASA’s MAVEN spacecraft that were collected during the last two years.\n"
     ]
    }
   ],
   "source": [
    "# loop through returned results and print required items\n",
    "for result in results:\n",
    "    news_title = result.find('div', class_='content_title').text\n",
    "    news_teaser = result.find('div', class_='article_teaser_body').text\n",
    "\n",
    "#print results\n",
    "    print(\"----------\")\n",
    "    print(f\"TITLE: {news_title}\")\n",
    "    print(\"\")\n",
    "    print(f\"TEASER: {news_teaser}\")"
   ]
  },
  {
   "cell_type": "code",
   "execution_count": 7,
   "id": "627c3d2f-59df-400e-b97e-4d1d32136d69",
   "metadata": {},
   "outputs": [],
   "source": [
    "browser.quit()"
   ]
  },
  {
   "cell_type": "markdown",
   "id": "de31cfe5-0f9a-4671-9f78-98fde95a70a7",
   "metadata": {},
   "source": [
    "### JPL Mars Space Images - Featured Image"
   ]
  },
  {
   "cell_type": "code",
   "execution_count": null,
   "id": "31553996-4af9-466f-932d-30dcc359c8c7",
   "metadata": {},
   "outputs": [],
   "source": [
    "# Setup splinter\n",
    "executable_path = {'executable_path': ChromeDriverManager().install()}\n",
    "browser = Browser('chrome', **executable_path, headless=False)"
   ]
  },
  {
   "cell_type": "code",
   "execution_count": 10,
   "id": "7ef5b4a4-d362-4b32-9551-fde6eefd048a",
   "metadata": {},
   "outputs": [],
   "source": [
    "# URL of page to be scraped\n",
    "url = 'https://spaceimages-mars.com/'\n",
    "browser.visit(url)"
   ]
  },
  {
   "cell_type": "code",
   "execution_count": 12,
   "id": "403dd11c-4b5e-437f-b568-a0427e52c437",
   "metadata": {},
   "outputs": [],
   "source": [
    "# HTML object\n",
    "html = browser.html\n",
    "\n",
    "# Parse HTML with Beautiful Soup\n",
    "soup = BeautifulSoup(html, 'html.parser')"
   ]
  },
  {
   "cell_type": "code",
   "execution_count": 28,
   "id": "0eec0c1d-1e03-4c7d-8c1a-44011d182513",
   "metadata": {},
   "outputs": [
    {
     "name": "stdout",
     "output_type": "stream",
     "text": [
      "featured_image_url = https://spaceimages-mars.com/image/featured/mars2.jpg\n"
     ]
    }
   ],
   "source": [
    "results = soup.find_all('div', class_=\"floating_text_area\")\n",
    "\n",
    "for result in results:\n",
    "    featured_image_url = result.a['href']\n",
    "    print(f\"featured_image_url = https://spaceimages-mars.com/{featured_image_url}\")"
   ]
  },
  {
   "cell_type": "markdown",
   "id": "3cedebaa-fcd1-4854-a84a-9ee99d7ec81c",
   "metadata": {},
   "source": [
    "### Mars Facts"
   ]
  },
  {
   "cell_type": "code",
   "execution_count": null,
   "id": "b52b0e50-d442-4f65-8f1f-8dff15bfcae2",
   "metadata": {},
   "outputs": [],
   "source": []
  },
  {
   "cell_type": "code",
   "execution_count": null,
   "id": "80357761-f207-451d-aa11-7722907cd47e",
   "metadata": {},
   "outputs": [],
   "source": []
  },
  {
   "cell_type": "code",
   "execution_count": null,
   "id": "4fefb662-f093-4bf7-97d0-4c99a3ebb168",
   "metadata": {},
   "outputs": [],
   "source": []
  },
  {
   "cell_type": "code",
   "execution_count": null,
   "id": "915bcfeb-c077-41a1-b52f-f7456c5651e9",
   "metadata": {},
   "outputs": [],
   "source": []
  },
  {
   "cell_type": "code",
   "execution_count": null,
   "id": "fb863f51-398b-43e7-b334-045ecc59ef2c",
   "metadata": {},
   "outputs": [],
   "source": []
  }
 ],
 "metadata": {
  "kernelspec": {
   "display_name": "Python 3 (ipykernel)",
   "language": "python",
   "name": "python3"
  },
  "language_info": {
   "codemirror_mode": {
    "name": "ipython",
    "version": 3
   },
   "file_extension": ".py",
   "mimetype": "text/x-python",
   "name": "python",
   "nbconvert_exporter": "python",
   "pygments_lexer": "ipython3",
   "version": "3.9.7"
  }
 },
 "nbformat": 4,
 "nbformat_minor": 5
}
