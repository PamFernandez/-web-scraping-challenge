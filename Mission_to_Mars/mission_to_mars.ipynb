{
 "cells": [
  {
   "cell_type": "code",
   "execution_count": 1,
   "id": "505ca43e-c48d-4863-8433-56aaab7cc354",
   "metadata": {},
   "outputs": [],
   "source": [
    "# Dependencies\n",
    "from bs4 import BeautifulSoup\n",
    "import requests\n",
    "import pymongo\n",
    "import pandas as pd\n",
    "from splinter import Browser\n",
    "from webdriver_manager.chrome import ChromeDriverManager"
   ]
  },
  {
   "cell_type": "markdown",
   "id": "3e83d60c-ec62-4c12-83df-3febdba6b218",
   "metadata": {},
   "source": [
    "## NASA Mars News"
   ]
  },
  {
   "cell_type": "code",
   "execution_count": 2,
   "id": "d2d7cc47-f5e7-4d94-baa3-edc8f0680e92",
   "metadata": {},
   "outputs": [
    {
     "name": "stderr",
     "output_type": "stream",
     "text": [
      "\n",
      "\n",
      "====== WebDriver manager ======\n",
      "Current google-chrome version is 99.0.4844\n",
      "Get LATEST chromedriver version for 99.0.4844 google-chrome\n",
      "Driver [/Users/Pam/.wdm/drivers/chromedriver/mac64/99.0.4844.51/chromedriver] found in cache\n"
     ]
    }
   ],
   "source": [
    "# Setup splinter\n",
    "executable_path = {'executable_path': ChromeDriverManager().install()}\n",
    "browser = Browser('chrome', **executable_path, headless=False)"
   ]
  },
  {
   "cell_type": "code",
   "execution_count": 3,
   "id": "d36267cf-c542-48d6-9511-d433b8972e0b",
   "metadata": {},
   "outputs": [],
   "source": [
    "# URL of page to be scraped\n",
    "url = 'https://redplanetscience.com/'\n",
    "browser.visit(url)"
   ]
  },
  {
   "cell_type": "code",
   "execution_count": 4,
   "id": "b7eef7ff-69b5-4bc2-aa48-456995668deb",
   "metadata": {},
   "outputs": [],
   "source": [
    "# HTML object\n",
    "html = browser.html\n",
    "\n",
    "# Parse HTML with Beautiful Soup\n",
    "soup = BeautifulSoup(html, 'html.parser')"
   ]
  },
  {
   "cell_type": "code",
   "execution_count": 5,
   "id": "e345099c-f780-483d-aac7-e40248deee10",
   "metadata": {},
   "outputs": [],
   "source": [
    "# Scrape the Mars News Site and collect the latest News Title and Paragraph Text. Assign the text to variables that you can reference later.\n",
    "# Retrieve all elements that contain title and teaser\n",
    "results = soup.find_all('div', class_='list_text')\n"
   ]
  },
  {
   "cell_type": "code",
   "execution_count": 6,
   "id": "88ec988b-50b3-4601-8b32-2d63984b48e5",
   "metadata": {},
   "outputs": [
    {
     "name": "stdout",
     "output_type": "stream",
     "text": [
      "----------\n",
      "TITLE: Nine Finalists Chosen in NASA's Mars 2020 Rover Naming Contest\n",
      "\n",
      "TEASER: Nine finalists have been chosen in the essay contest for K-12 students across U.S. to name NASA's next Mars rover. Now you can help by voting for your favorite. \n",
      "----------\n",
      "TITLE: How NASA's Perseverance Mars Team Adjusted to Work in the Time of Coronavirus \n",
      "\n",
      "TEASER: Like much of the rest of the world, the Mars rover team is pushing forward with its mission-critical work while putting the health and safety of their colleagues and community first.\n",
      "----------\n",
      "TITLE: 8 Martian Postcards to Celebrate Curiosity's Landing Anniversary\n",
      "\n",
      "TEASER: The NASA rover touched down eight years ago, on Aug. 5, 2012, and will soon be joined by a second rover, Perseverance.\n",
      "----------\n",
      "TITLE: While Stargazing on Mars, NASA's Curiosity Rover Spots Earth and Venus\n",
      "\n",
      "TEASER: This new portrait of the Red Planet's neighbors was taken during a time when there's more dust in the air on Mars.\n",
      "----------\n",
      "TITLE: NASA's Mars 2020 Rover Tests Descent-Stage Separation\n",
      "\n",
      "TEASER: A crane lifts the rocket-powered descent stage away from NASA's Mars 2020 rover after technicians tested the pyrotechnic charges that separate the two spacecraft.\n",
      "----------\n",
      "TITLE: NASA's Mars 2020 Will Hunt for Microscopic Fossils\n",
      "\n",
      "TEASER: A new paper identifies a ring of minerals at the rover's landing site that are ideal for fossilizing microbial life.\n",
      "----------\n",
      "TITLE: MOXIE Could Help Future Rockets Launch Off Mars\n",
      "\n",
      "TEASER: NASA's Perseverance rover carries a device to convert Martian air into oxygen that, if produced on a larger scale, could be used not just for breathing, but also for fuel.\n",
      "----------\n",
      "TITLE: NASA's Mars Reconnaissance Orbiter Undergoes Memory Update\n",
      "\n",
      "TEASER: Other orbiters will continue relaying data from Mars surface missions for a two-week period.\n",
      "----------\n",
      "TITLE: A Year of Surprising Science From NASA's InSight Mars Mission\n",
      "\n",
      "TEASER: A batch of new papers summarizes the lander's findings above and below the surface of the Red Planet.\n",
      "----------\n",
      "TITLE: Two Rovers to Roll on Mars Again: Curiosity and Mars 2020\n",
      "\n",
      "TEASER: They look like twins. But under the hood, the rover currently exploring the Red Planet and the one launching there this summer have distinct science tools and roles to play.\n",
      "----------\n",
      "TITLE: NASA's MAVEN Explores Mars to Understand Radio Interference at Earth\n",
      "\n",
      "TEASER: NASA’s MAVEN spacecraft has discovered “layers” and “rifts” in the electrically charged part of the upper atmosphere of Mars.\n",
      "----------\n",
      "TITLE: NASA's Ingenuity Mars Helicopter Recharges Its Batteries in Flight\n",
      "\n",
      "TEASER: Headed to the Red Planet with the Perseverance rover, the pioneering helicopter is powered up for the first time in interplanetary space as part of a systems check.\n",
      "----------\n",
      "TITLE: NASA to Hold Mars 2020 Perseverance Rover Launch Briefing\n",
      "\n",
      "TEASER: Learn more about the agency's next Red Planet mission during a live event on June 17.\n",
      "----------\n",
      "TITLE: Alabama High School Student Names NASA's Mars Helicopter\n",
      "\n",
      "TEASER: Vaneeza Rupani's essay was chosen as the name for the small spacecraft, which will mark NASA's first attempt at powered flight on another planet.\n",
      "----------\n",
      "TITLE: NASA's Perseverance Rover Will Peer Beneath Mars' Surface \n",
      "\n",
      "TEASER: The agency's newest rover will use the first ground-penetrating radar instrument on the Martian surface to help search for signs of past microbial life. \n"
     ]
    }
   ],
   "source": [
    "# loop through returned results and print required items\n",
    "for result in results:\n",
    "    news_title = result.find('div', class_='content_title').text\n",
    "    news_teaser = result.find('div', class_='article_teaser_body').text\n",
    "\n",
    "#print results\n",
    "    print(\"----------\")\n",
    "    print(f\"TITLE: {news_title}\")\n",
    "    print(\"\")\n",
    "    print(f\"TEASER: {news_teaser}\")"
   ]
  },
  {
   "cell_type": "code",
   "execution_count": 7,
   "id": "627c3d2f-59df-400e-b97e-4d1d32136d69",
   "metadata": {},
   "outputs": [],
   "source": [
    "browser.quit()"
   ]
  },
  {
   "cell_type": "markdown",
   "id": "de31cfe5-0f9a-4671-9f78-98fde95a70a7",
   "metadata": {},
   "source": [
    "## JPL Mars Space Images - Featured Image"
   ]
  },
  {
   "cell_type": "code",
   "execution_count": 8,
   "id": "31553996-4af9-466f-932d-30dcc359c8c7",
   "metadata": {},
   "outputs": [
    {
     "name": "stderr",
     "output_type": "stream",
     "text": [
      "\n",
      "\n",
      "====== WebDriver manager ======\n",
      "Current google-chrome version is 99.0.4844\n",
      "Get LATEST chromedriver version for 99.0.4844 google-chrome\n",
      "Driver [/Users/Pam/.wdm/drivers/chromedriver/mac64/99.0.4844.51/chromedriver] found in cache\n"
     ]
    }
   ],
   "source": [
    "# Setup splinter\n",
    "executable_path = {'executable_path': ChromeDriverManager().install()}\n",
    "browser = Browser('chrome', **executable_path, headless=False)"
   ]
  },
  {
   "cell_type": "code",
   "execution_count": 9,
   "id": "7ef5b4a4-d362-4b32-9551-fde6eefd048a",
   "metadata": {},
   "outputs": [],
   "source": [
    "# URL of page to be scraped\n",
    "url = 'https://spaceimages-mars.com/'\n",
    "browser.visit(url)"
   ]
  },
  {
   "cell_type": "code",
   "execution_count": 10,
   "id": "403dd11c-4b5e-437f-b568-a0427e52c437",
   "metadata": {},
   "outputs": [],
   "source": [
    "# HTML object\n",
    "html = browser.html\n",
    "\n",
    "# Parse HTML with Beautiful Soup\n",
    "soup = BeautifulSoup(html, 'html.parser')"
   ]
  },
  {
   "cell_type": "code",
   "execution_count": 17,
   "id": "0eec0c1d-1e03-4c7d-8c1a-44011d182513",
   "metadata": {},
   "outputs": [
    {
     "name": "stdout",
     "output_type": "stream",
     "text": [
      "featured_image_url = https://spaceimages-mars.com/image/featured/mars2.jpg\n",
      "<h1 class=\"media_feature_title\">Dusty Space Cloud</h1>\n"
     ]
    }
   ],
   "source": [
    "results = soup.find_all('div', class_=\"floating_text_area\")\n",
    "\n",
    "for result in results:\n",
    "    featured_image_url = result.a['href']\n",
    "    featured_image_name = result.h1\n",
    "    print(f\"featured_image_url = https://spaceimages-mars.com/{featured_image_url}\")\n",
    "    print(featured_image_name)"
   ]
  },
  {
   "cell_type": "code",
   "execution_count": 12,
   "id": "80357761-f207-451d-aa11-7722907cd47e",
   "metadata": {},
   "outputs": [],
   "source": [
    "browser.quit()"
   ]
  },
  {
   "cell_type": "markdown",
   "id": "3cedebaa-fcd1-4854-a84a-9ee99d7ec81c",
   "metadata": {},
   "source": [
    "## Mars Facts"
   ]
  },
  {
   "cell_type": "code",
   "execution_count": 25,
   "id": "b52b0e50-d442-4f65-8f1f-8dff15bfcae2",
   "metadata": {},
   "outputs": [
    {
     "data": {
      "text/html": [
       "<div>\n",
       "<style scoped>\n",
       "    .dataframe tbody tr th:only-of-type {\n",
       "        vertical-align: middle;\n",
       "    }\n",
       "\n",
       "    .dataframe tbody tr th {\n",
       "        vertical-align: top;\n",
       "    }\n",
       "\n",
       "    .dataframe thead th {\n",
       "        text-align: right;\n",
       "    }\n",
       "</style>\n",
       "<table border=\"1\" class=\"dataframe\">\n",
       "  <thead>\n",
       "    <tr style=\"text-align: right;\">\n",
       "      <th></th>\n",
       "      <th>0</th>\n",
       "      <th>1</th>\n",
       "      <th>2</th>\n",
       "    </tr>\n",
       "  </thead>\n",
       "  <tbody>\n",
       "    <tr>\n",
       "      <th>0</th>\n",
       "      <td>Mars - Earth Comparison</td>\n",
       "      <td>Mars</td>\n",
       "      <td>Earth</td>\n",
       "    </tr>\n",
       "    <tr>\n",
       "      <th>1</th>\n",
       "      <td>Diameter:</td>\n",
       "      <td>6,779 km</td>\n",
       "      <td>12,742 km</td>\n",
       "    </tr>\n",
       "    <tr>\n",
       "      <th>2</th>\n",
       "      <td>Mass:</td>\n",
       "      <td>6.39 × 10^23 kg</td>\n",
       "      <td>5.97 × 10^24 kg</td>\n",
       "    </tr>\n",
       "    <tr>\n",
       "      <th>3</th>\n",
       "      <td>Moons:</td>\n",
       "      <td>2</td>\n",
       "      <td>1</td>\n",
       "    </tr>\n",
       "    <tr>\n",
       "      <th>4</th>\n",
       "      <td>Distance from Sun:</td>\n",
       "      <td>227,943,824 km</td>\n",
       "      <td>149,598,262 km</td>\n",
       "    </tr>\n",
       "    <tr>\n",
       "      <th>5</th>\n",
       "      <td>Length of Year:</td>\n",
       "      <td>687 Earth days</td>\n",
       "      <td>365.24 days</td>\n",
       "    </tr>\n",
       "    <tr>\n",
       "      <th>6</th>\n",
       "      <td>Temperature:</td>\n",
       "      <td>-87 to -5 °C</td>\n",
       "      <td>-88 to 58°C</td>\n",
       "    </tr>\n",
       "  </tbody>\n",
       "</table>\n",
       "</div>"
      ],
      "text/plain": [
       "                         0                1                2\n",
       "0  Mars - Earth Comparison             Mars            Earth\n",
       "1                Diameter:         6,779 km        12,742 km\n",
       "2                    Mass:  6.39 × 10^23 kg  5.97 × 10^24 kg\n",
       "3                   Moons:                2                1\n",
       "4       Distance from Sun:   227,943,824 km   149,598,262 km\n",
       "5          Length of Year:   687 Earth days      365.24 days\n",
       "6             Temperature:     -87 to -5 °C      -88 to 58°C"
      ]
     },
     "execution_count": 25,
     "metadata": {},
     "output_type": "execute_result"
    }
   ],
   "source": [
    "# use the `read_html` function in Pandas to automatically scrape any tabular data from a page.\n",
    "df = pd.read_html('https://galaxyfacts-mars.com/')[0]\n",
    "df"
   ]
  },
  {
   "cell_type": "code",
   "execution_count": 26,
   "id": "4fefb662-f093-4bf7-97d0-4c99a3ebb168",
   "metadata": {},
   "outputs": [
    {
     "data": {
      "text/html": [
       "<div>\n",
       "<style scoped>\n",
       "    .dataframe tbody tr th:only-of-type {\n",
       "        vertical-align: middle;\n",
       "    }\n",
       "\n",
       "    .dataframe tbody tr th {\n",
       "        vertical-align: top;\n",
       "    }\n",
       "\n",
       "    .dataframe thead th {\n",
       "        text-align: right;\n",
       "    }\n",
       "</style>\n",
       "<table border=\"1\" class=\"dataframe\">\n",
       "  <thead>\n",
       "    <tr style=\"text-align: right;\">\n",
       "      <th></th>\n",
       "      <th>Mars</th>\n",
       "      <th>Earth</th>\n",
       "    </tr>\n",
       "    <tr>\n",
       "      <th>Mars-Earth Comparison</th>\n",
       "      <th></th>\n",
       "      <th></th>\n",
       "    </tr>\n",
       "  </thead>\n",
       "  <tbody>\n",
       "    <tr>\n",
       "      <th>Mars - Earth Comparison</th>\n",
       "      <td>Mars</td>\n",
       "      <td>Earth</td>\n",
       "    </tr>\n",
       "    <tr>\n",
       "      <th>Diameter:</th>\n",
       "      <td>6,779 km</td>\n",
       "      <td>12,742 km</td>\n",
       "    </tr>\n",
       "    <tr>\n",
       "      <th>Mass:</th>\n",
       "      <td>6.39 × 10^23 kg</td>\n",
       "      <td>5.97 × 10^24 kg</td>\n",
       "    </tr>\n",
       "    <tr>\n",
       "      <th>Moons:</th>\n",
       "      <td>2</td>\n",
       "      <td>1</td>\n",
       "    </tr>\n",
       "    <tr>\n",
       "      <th>Distance from Sun:</th>\n",
       "      <td>227,943,824 km</td>\n",
       "      <td>149,598,262 km</td>\n",
       "    </tr>\n",
       "    <tr>\n",
       "      <th>Length of Year:</th>\n",
       "      <td>687 Earth days</td>\n",
       "      <td>365.24 days</td>\n",
       "    </tr>\n",
       "    <tr>\n",
       "      <th>Temperature:</th>\n",
       "      <td>-87 to -5 °C</td>\n",
       "      <td>-88 to 58°C</td>\n",
       "    </tr>\n",
       "  </tbody>\n",
       "</table>\n",
       "</div>"
      ],
      "text/plain": [
       "                                    Mars            Earth\n",
       "Mars-Earth Comparison                                    \n",
       "Mars - Earth Comparison             Mars            Earth\n",
       "Diameter:                       6,779 km        12,742 km\n",
       "Mass:                    6.39 × 10^23 kg  5.97 × 10^24 kg\n",
       "Moons:                                 2                1\n",
       "Distance from Sun:        227,943,824 km   149,598,262 km\n",
       "Length of Year:           687 Earth days      365.24 days\n",
       "Temperature:                -87 to -5 °C      -88 to 58°C"
      ]
     },
     "execution_count": 26,
     "metadata": {},
     "output_type": "execute_result"
    }
   ],
   "source": [
    "df.columns = ['Mars-Earth Comparison', 'Mars', 'Earth']\n",
    "df.set_index('Mars-Earth Comparison', inplace=True)\n",
    "df"
   ]
  },
  {
   "cell_type": "code",
   "execution_count": 27,
   "id": "fb863f51-398b-43e7-b334-045ecc59ef2c",
   "metadata": {},
   "outputs": [
    {
     "name": "stdout",
     "output_type": "stream",
     "text": [
      "<table border=\"1\" class=\"dataframe\">\n",
      "  <thead>\n",
      "    <tr style=\"text-align: right;\">\n",
      "      <th></th>\n",
      "      <th>Mars</th>\n",
      "      <th>Earth</th>\n",
      "    </tr>\n",
      "    <tr>\n",
      "      <th>Mars-Earth Comparison</th>\n",
      "      <th></th>\n",
      "      <th></th>\n",
      "    </tr>\n",
      "  </thead>\n",
      "  <tbody>\n",
      "    <tr>\n",
      "      <th>Mars - Earth Comparison</th>\n",
      "      <td>Mars</td>\n",
      "      <td>Earth</td>\n",
      "    </tr>\n",
      "    <tr>\n",
      "      <th>Diameter:</th>\n",
      "      <td>6,779 km</td>\n",
      "      <td>12,742 km</td>\n",
      "    </tr>\n",
      "    <tr>\n",
      "      <th>Mass:</th>\n",
      "      <td>6.39 × 10^23 kg</td>\n",
      "      <td>5.97 × 10^24 kg</td>\n",
      "    </tr>\n",
      "    <tr>\n",
      "      <th>Moons:</th>\n",
      "      <td>2</td>\n",
      "      <td>1</td>\n",
      "    </tr>\n",
      "    <tr>\n",
      "      <th>Distance from Sun:</th>\n",
      "      <td>227,943,824 km</td>\n",
      "      <td>149,598,262 km</td>\n",
      "    </tr>\n",
      "    <tr>\n",
      "      <th>Length of Year:</th>\n",
      "      <td>687 Earth days</td>\n",
      "      <td>365.24 days</td>\n",
      "    </tr>\n",
      "    <tr>\n",
      "      <th>Temperature:</th>\n",
      "      <td>-87 to -5 °C</td>\n",
      "      <td>-88 to 58°C</td>\n",
      "    </tr>\n",
      "  </tbody>\n",
      "</table>\n"
     ]
    }
   ],
   "source": [
    "df_html = df.to_html()\n",
    "print(df_html)"
   ]
  },
  {
   "cell_type": "markdown",
   "id": "023def67-c614-4037-b975-6aa5a02c20bb",
   "metadata": {},
   "source": [
    "## Mars Hemispheres"
   ]
  },
  {
   "cell_type": "code",
   "execution_count": 19,
   "id": "0cd8617e-f17e-4beb-ad82-19c4ee779852",
   "metadata": {},
   "outputs": [],
   "source": [
    "# for all four Mars hemispheres, find and save the hemisphere name and image URL \n",
    "# create a list that will contain the four dictionaries\n",
    "# append the dictionary with the four name and URL pairs\n"
   ]
  },
  {
   "cell_type": "code",
   "execution_count": 3,
   "id": "df56ed98-43b8-4856-a11f-48149b8b3379",
   "metadata": {},
   "outputs": [
    {
     "name": "stderr",
     "output_type": "stream",
     "text": [
      "\n",
      "\n",
      "====== WebDriver manager ======\n",
      "Current google-chrome version is 99.0.4844\n",
      "Get LATEST chromedriver version for 99.0.4844 google-chrome\n",
      "Driver [/Users/Pam/.wdm/drivers/chromedriver/mac64/99.0.4844.51/chromedriver] found in cache\n"
     ]
    }
   ],
   "source": [
    "# Setup splinter\n",
    "executable_path = {'executable_path': ChromeDriverManager().install()}\n",
    "browser = Browser('chrome', **executable_path, headless=False)\n",
    "\n",
    "# URL of page to be scraped\n",
    "url = 'https://marshemispheres.com/'\n",
    "browser.visit(url)"
   ]
  },
  {
   "cell_type": "code",
   "execution_count": 4,
   "id": "12ea8eb7-cfeb-4737-957a-ef93ce15082d",
   "metadata": {},
   "outputs": [],
   "source": [
    "# collecting the urls that will need to be clicked on\n",
    "urls_to_click_on = []\n",
    "\n",
    "# the list of dictionaries with the title & URL pairs\n",
    "hemisphere_image_urls = []"
   ]
  },
  {
   "cell_type": "code",
   "execution_count": 5,
   "id": "9a1ca039-7523-4b51-996b-0bf6587c49f7",
   "metadata": {},
   "outputs": [],
   "source": [
    "html = browser.html\n",
    "soup = BeautifulSoup(html, 'html.parser')\n",
    "# Retrieve all elements that contain name & url_to_click_on information\n",
    "items = soup.find_all('div', class_='item')\n",
    "\n",
    "# Iterate through each hemisphere\n",
    "for item in items:\n",
    "    # Use Beautiful Soup's find() method to navigate and retrieve attributes\n",
    "    title = item.find('h3').text\n",
    "    base_url = 'https://marshemispheres.com/'\n",
    "    href = item.a['href']\n",
    "    click_url = base_url + href\n",
    "    # print(name)\n",
    "\n",
    "    # save the urls to clik on in a list       \n",
    "    urls_to_click_on.append(click_url)\n",
    "    \n",
    "    # iterate through the images to click on -- need this to find the full-sized image\n",
    "    for x in urls_to_click_on:\n",
    "        browser.visit(x)\n",
    "\n",
    "        html = browser.html\n",
    "        soup = BeautifulSoup(html, 'html.parser')\n",
    "        # Retrieve all elements that contain the full images I need\n",
    "        items = soup.find_all('div', class_='downloads')\n",
    "\n",
    "        # Iterate through each hemisphere\n",
    "        for item in items:\n",
    "            # Use Beautiful Soup's find() method to navigate and retrieve attributes\n",
    "            base_url = 'https://marshemispheres.com/'\n",
    "            href = item.a['href']\n",
    "            img_url = base_url + href\n",
    "            # print(image_url)\n",
    "    \n",
    "    # pair the name and urls up, put them in a dictionary, and append them to the list\n",
    "    name_url_dict = {\n",
    "        'name': title,\n",
    "        'url': img_url\n",
    "    }\n",
    "\n",
    "    hemisphere_image_urls.append(name_url_dict)"
   ]
  },
  {
   "cell_type": "code",
   "execution_count": 34,
   "id": "4b1c12ea-9c8d-4fcd-a0a2-4b9b5f795632",
   "metadata": {},
   "outputs": [
    {
     "name": "stdout",
     "output_type": "stream",
     "text": [
      "[{'name': 'Cerberus Hemisphere Enhanced', 'url': 'https://marshemispheres.com/images/full.jpg'}, {'name': 'Schiaparelli Hemisphere Enhanced', 'url': 'https://marshemispheres.com/images/schiaparelli_enhanced-full.jpg'}, {'name': 'Syrtis Major Hemisphere Enhanced', 'url': 'https://marshemispheres.com/images/syrtis_major_enhanced-full.jpg'}, {'name': 'Valles Marineris Hemisphere Enhanced', 'url': 'https://marshemispheres.com/images/valles_marineris_enhanced-full.jpg'}]\n"
     ]
    }
   ],
   "source": [
    "print(hemisphere_image_urls)"
   ]
  },
  {
   "cell_type": "code",
   "execution_count": 6,
   "id": "cc2508ae-0fee-49a7-ad6b-311ea6350a8a",
   "metadata": {},
   "outputs": [],
   "source": [
    "browser.quit()  \n",
    "    "
   ]
  },
  {
   "cell_type": "code",
   "execution_count": null,
   "id": "3c31fd63-9e83-4d9e-b293-5e80d74b9f44",
   "metadata": {},
   "outputs": [],
   "source": []
  }
 ],
 "metadata": {
  "kernelspec": {
   "display_name": "Python 3 (ipykernel)",
   "language": "python",
   "name": "python3"
  },
  "language_info": {
   "codemirror_mode": {
    "name": "ipython",
    "version": 3
   },
   "file_extension": ".py",
   "mimetype": "text/x-python",
   "name": "python",
   "nbconvert_exporter": "python",
   "pygments_lexer": "ipython3",
   "version": "3.9.7"
  }
 },
 "nbformat": 4,
 "nbformat_minor": 5
}
