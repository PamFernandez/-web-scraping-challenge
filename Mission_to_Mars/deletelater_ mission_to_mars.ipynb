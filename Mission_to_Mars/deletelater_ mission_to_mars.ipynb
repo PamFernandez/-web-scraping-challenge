{
 "cells": [
  {
   "cell_type": "code",
   "execution_count": 59,
   "id": "505ca43e-c48d-4863-8433-56aaab7cc354",
   "metadata": {},
   "outputs": [],
   "source": [
    "# Dependencies\n",
    "from bs4 import BeautifulSoup\n",
    "import requests\n",
    "import pymongo\n",
    "import pandas as pd\n",
    "from splinter import Browser\n",
    "from webdriver_manager.chrome import ChromeDriverManager"
   ]
  },
  {
   "cell_type": "code",
   "execution_count": 174,
   "id": "403dd11c-4b5e-437f-b568-a0427e52c437",
   "metadata": {},
   "outputs": [
    {
     "name": "stderr",
     "output_type": "stream",
     "text": [
      "\n",
      "\n",
      "====== WebDriver manager ======\n",
      "Current google-chrome version is 99.0.4844\n",
      "Get LATEST chromedriver version for 99.0.4844 google-chrome\n",
      "Driver [/Users/Pam/.wdm/drivers/chromedriver/mac64/99.0.4844.51/chromedriver] found in cache\n"
     ]
    }
   ],
   "source": [
    "# Setup splinter\n",
    "executable_path = {'executable_path': ChromeDriverManager().install()}\n",
    "browser = Browser('chrome', **executable_path, headless=False)\n",
    "\n",
    "# URL of page to be scraped\n",
    "url = 'https://marshemispheres.com/'\n",
    "browser.visit(url)"
   ]
  },
  {
   "cell_type": "code",
   "execution_count": 170,
   "id": "78c40aa4-1dfd-4b74-9619-4b521dd482ce",
   "metadata": {},
   "outputs": [],
   "source": [
    "# collecting the urls that will need to be clicked on\n",
    "urls_to_click_on = []\n",
    "\n",
    "# the list of dictionaries with the title & URL pairs\n",
    "hemisphere_image_urls = []\n"
   ]
  },
  {
   "cell_type": "code",
   "execution_count": 171,
   "id": "10f1ba04-c73b-4d68-ad30-9dd30f12be9d",
   "metadata": {},
   "outputs": [],
   "source": [
    "html = browser.html\n",
    "soup = BeautifulSoup(html, 'html.parser')\n",
    "# Retrieve all elements that contain name & url_to_click_on information\n",
    "items = soup.find_all('div', class_='item')\n",
    "\n",
    "# Iterate through each hemisphere\n",
    "for item in items:\n",
    "    # Use Beautiful Soup's find() method to navigate and retrieve attributes\n",
    "    title = item.find('h3').text\n",
    "    base_url = 'https://marshemispheres.com/'\n",
    "    href = item.a['href']\n",
    "    click_url = base_url + href\n",
    "    # print(name)\n",
    "           \n",
    "    urls_to_click_on.append(click_url)\n",
    "    \n",
    "    for x in urls_to_click_on:\n",
    "        browser.visit(x)\n",
    "\n",
    "        html = browser.html\n",
    "        soup = BeautifulSoup(html, 'html.parser')\n",
    "        # Retrieve all elements that contain the full images I need\n",
    "        items = soup.find_all('div', class_='downloads')\n",
    "\n",
    "        # Iterate through each hemisphere\n",
    "        for item in items:\n",
    "            # Use Beautiful Soup's find() method to navigate and retrieve attributes\n",
    "            base_url = 'https://marshemispheres.com/'\n",
    "            href = item.a['href']\n",
    "            img_url = base_url + href\n",
    "            # print(image_url)\n",
    "    \n",
    "    # pair the name and urls up, put them in a dictionary, and append them to the list\n",
    "    name_url_dict = {\n",
    "        'name': title,\n",
    "        'url': img_url\n",
    "    }\n",
    "\n",
    "    hemisphere_image_urls.append(name_url_dict)\n",
    "\n",
    "\n",
    "\n"
   ]
  },
  {
   "cell_type": "code",
   "execution_count": 175,
   "id": "3fc00bf5-f679-4b21-b24d-e9ec7a841f72",
   "metadata": {},
   "outputs": [
    {
     "name": "stdout",
     "output_type": "stream",
     "text": [
      "[{'name': 'Cerberus Hemisphere Enhanced', 'url': 'https://marshemispheres.com/images/full.jpg'}, {'name': 'Schiaparelli Hemisphere Enhanced', 'url': 'https://marshemispheres.com/images/schiaparelli_enhanced-full.jpg'}, {'name': 'Syrtis Major Hemisphere Enhanced', 'url': 'https://marshemispheres.com/images/syrtis_major_enhanced-full.jpg'}, {'name': 'Valles Marineris Hemisphere Enhanced', 'url': 'https://marshemispheres.com/images/valles_marineris_enhanced-full.jpg'}]\n"
     ]
    }
   ],
   "source": [
    "\n",
    "print(collection)"
   ]
  },
  {
   "cell_type": "code",
   "execution_count": 176,
   "id": "f356c541-d23f-4d90-8dc0-cfe297dffae7",
   "metadata": {},
   "outputs": [],
   "source": [
    "browser.quit()  "
   ]
  },
  {
   "cell_type": "code",
   "execution_count": 71,
   "id": "31553996-4af9-466f-932d-30dcc359c8c7",
   "metadata": {},
   "outputs": [
    {
     "name": "stderr",
     "output_type": "stream",
     "text": [
      "\n",
      "\n",
      "====== WebDriver manager ======\n",
      "Current google-chrome version is 99.0.4844\n",
      "Get LATEST chromedriver version for 99.0.4844 google-chrome\n",
      "Driver [/Users/Pam/.wdm/drivers/chromedriver/mac64/99.0.4844.51/chromedriver] found in cache\n"
     ]
    }
   ],
   "source": [
    "# Setup splinter\n",
    "executable_path = {'executable_path': ChromeDriverManager().install()}\n",
    "browser = Browser('chrome', **executable_path, headless=False)"
   ]
  },
  {
   "cell_type": "code",
   "execution_count": 72,
   "id": "ab5e5565",
   "metadata": {},
   "outputs": [
    {
     "name": "stdout",
     "output_type": "stream",
     "text": [
      "https://marshemispheres.com/images/full.jpg\n",
      "{'name': 'Valles Marineris Hemisphere Enhanced', 'url': 'https://marshemispheres.com/images/full.jpg'}\n",
      "https://marshemispheres.com/images/schiaparelli_enhanced-full.jpg\n",
      "{'name': 'Valles Marineris Hemisphere Enhanced', 'url': 'https://marshemispheres.com/images/schiaparelli_enhanced-full.jpg'}\n",
      "https://marshemispheres.com/images/syrtis_major_enhanced-full.jpg\n",
      "{'name': 'Valles Marineris Hemisphere Enhanced', 'url': 'https://marshemispheres.com/images/syrtis_major_enhanced-full.jpg'}\n",
      "https://marshemispheres.com/images/valles_marineris_enhanced-full.jpg\n",
      "{'name': 'Valles Marineris Hemisphere Enhanced', 'url': 'https://marshemispheres.com/images/valles_marineris_enhanced-full.jpg'}\n"
     ]
    }
   ],
   "source": [
    "# iterate through the urls_to_click_on\n"
   ]
  },
  {
   "cell_type": "code",
   "execution_count": 67,
   "id": "c90a89fe-2d57-4354-aa61-ac78adff79d8",
   "metadata": {},
   "outputs": [],
   "source": [
    "browser.quit()  \n"
   ]
  },
  {
   "cell_type": "code",
   "execution_count": 70,
   "id": "4b7323fc-8dcd-4de3-896e-d90d5472c542",
   "metadata": {},
   "outputs": [
    {
     "name": "stdout",
     "output_type": "stream",
     "text": [
      "{'name': 'Valles Marineris Hemisphere Enhanced', 'url': 'https://marshemispheres.com/images/valles_marineris_enhanced-full.jpg'}\n"
     ]
    }
   ],
   "source": [
    "\n"
   ]
  },
  {
   "cell_type": "code",
   "execution_count": 6,
   "id": "ad663f69-f7f6-45c6-ba81-a5701ebb6e24",
   "metadata": {},
   "outputs": [],
   "source": []
  },
  {
   "cell_type": "code",
   "execution_count": null,
   "id": "d97af397-20e5-4816-bd5f-ef2a880c4e8a",
   "metadata": {},
   "outputs": [],
   "source": []
  },
  {
   "cell_type": "code",
   "execution_count": null,
   "id": "7d6eed08-e037-4b01-ace3-83d8e388f8d3",
   "metadata": {},
   "outputs": [],
   "source": []
  }
 ],
 "metadata": {
  "kernelspec": {
   "display_name": "Python 3 (ipykernel)",
   "language": "python",
   "name": "python3"
  },
  "language_info": {
   "codemirror_mode": {
    "name": "ipython",
    "version": 3
   },
   "file_extension": ".py",
   "mimetype": "text/x-python",
   "name": "python",
   "nbconvert_exporter": "python",
   "pygments_lexer": "ipython3",
   "version": "3.9.7"
  }
 },
 "nbformat": 4,
 "nbformat_minor": 5
}
